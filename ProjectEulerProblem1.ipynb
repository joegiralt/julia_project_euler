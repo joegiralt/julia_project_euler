{
 "metadata": {
  "language": "Julia",
  "name": "ProjectEulerProblem1"
 },
 "nbformat": 3,
 "nbformat_minor": 0,
 "worksheets": [
  {
   "cells": [
    {
     "cell_type": "markdown",
     "metadata": {},
     "source": "If we list all the natural numbers below 10 that are multiples of 3 or 5, we get 3, 5, 6 and 9. The sum of these multiples is 23.\n\nFind the sum of all the multiples of 3 or 5 below 1000."
    },
    {
     "cell_type": "code",
     "collapsed": false,
     "input": "\nfunction MultiplesOfThreeAndFiveBelow(num)\n    sum_of_all = 0\n    for i = 1:num\n        if ((i%5==0) || (i%3==0))\n            sum_of_all += i\n        end\n    end    \n    return sum_of_all\nend",
     "language": "python",
     "metadata": {},
     "outputs": [
      {
       "metadata": {},
       "output_type": "pyout",
       "prompt_number": 19,
       "text": "MultiplesOfThreeAndFiveBelow (generic function with 1 method)"
      }
     ],
     "prompt_number": 19
    },
    {
     "cell_type": "code",
     "collapsed": false,
     "input": "MultiplesOfThreeAndFiveBelow(1000)",
     "language": "python",
     "metadata": {},
     "outputs": [
      {
       "metadata": {},
       "output_type": "pyout",
       "prompt_number": 20,
       "text": "234168"
      }
     ],
     "prompt_number": 20
    },
    {
     "cell_type": "code",
     "collapsed": false,
     "input": "",
     "language": "python",
     "metadata": {},
     "outputs": []
    }
   ],
   "metadata": {}
  }
 ]
}